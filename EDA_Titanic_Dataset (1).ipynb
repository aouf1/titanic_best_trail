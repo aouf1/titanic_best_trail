{
 "cells": [
  {
   "cell_type": "code",
   "execution_count": 1,
   "id": "c98b9796-d056-40d1-9acb-d5cc6d21e13f",
   "metadata": {},
   "outputs": [],
   "source": [
    "import pandas as pd\n",
    "import numpy as np\n",
    "import matplotlib.pyplot as plt\n",
    "import seaborn as sns \n",
    "from scipy import stats\n",
    "from sklearn.model_selection import train_test_split, GridSearchCV\n",
    "# Select only numerical features\n",
    "import re\n",
    "from sklearn.preprocessing import LabelEncoder\n",
    "from sklearn.feature_selection import SelectKBest, chi2, f_classif\n",
    "from sklearn.tree import DecisionTreeClassifier\n",
    "from sklearn.metrics import accuracy_score, classification_report, confusion_matrix\n",
    "from sklearn.ensemble import RandomForestClassifier\n",
    "from sklearn.linear_model import LogisticRegression\n",
    "from sklearn.preprocessing import StandardScaler\n",
    "from sklearn.preprocessing import MinMaxScaler\n",
    "from sklearn.svm import SVC\n",
    "from sklearn.neighbors import KNeighborsClassifier\n",
    "from sklearn.naive_bayes import GaussianNB\n",
    "import xgboost as xgb\n",
    "import joblib\n",
    "from sklearn.preprocessing import OrdinalEncoder\n",
    "import optuna\n",
    "from xgboost import XGBClassifier"
   ]
  },
  {
   "cell_type": "markdown",
   "id": "8eca4759-7a99-40fa-9365-35eea2bc5fae",
   "metadata": {},
   "source": [
    "# Load Data"
   ]
  },
  {
   "cell_type": "code",
   "execution_count": 2,
   "id": "fd4d18e5-8c1f-4d16-bd12-276a61fff317",
   "metadata": {},
   "outputs": [],
   "source": [
    "df=pd.read_csv(r\"C:\\Users\\HP\\Downloads\\archive (3)\\Titanic-Dataset.csv\")\n",
    "from sklearn.model_selection import train_test_split\n",
    "Data_Frame, test = train_test_split(df, test_size=0.2, random_state=42)\n",
    "test.to_csv(\"test_df.csv\", index=False)"
   ]
  },
  {
   "cell_type": "markdown",
   "id": "f38270f2-c321-46cd-aad1-8d89f99aee09",
   "metadata": {},
   "source": [
    "# Data overview"
   ]
  },
  {
   "cell_type": "code",
   "execution_count": 3,
   "id": "b5431608-ff8e-4f84-b622-d28006bfbb2a",
   "metadata": {},
   "outputs": [
    {
     "data": {
      "text/html": [
       "<div>\n",
       "<style scoped>\n",
       "    .dataframe tbody tr th:only-of-type {\n",
       "        vertical-align: middle;\n",
       "    }\n",
       "\n",
       "    .dataframe tbody tr th {\n",
       "        vertical-align: top;\n",
       "    }\n",
       "\n",
       "    .dataframe thead th {\n",
       "        text-align: right;\n",
       "    }\n",
       "</style>\n",
       "<table border=\"1\" class=\"dataframe\">\n",
       "  <thead>\n",
       "    <tr style=\"text-align: right;\">\n",
       "      <th></th>\n",
       "      <th>PassengerId</th>\n",
       "      <th>Survived</th>\n",
       "      <th>Pclass</th>\n",
       "      <th>Age</th>\n",
       "      <th>SibSp</th>\n",
       "      <th>Parch</th>\n",
       "      <th>Fare</th>\n",
       "    </tr>\n",
       "  </thead>\n",
       "  <tbody>\n",
       "    <tr>\n",
       "      <th>count</th>\n",
       "      <td>712.000000</td>\n",
       "      <td>712.000000</td>\n",
       "      <td>712.000000</td>\n",
       "      <td>572.000000</td>\n",
       "      <td>712.000000</td>\n",
       "      <td>712.000000</td>\n",
       "      <td>712.000000</td>\n",
       "    </tr>\n",
       "    <tr>\n",
       "      <th>mean</th>\n",
       "      <td>448.234551</td>\n",
       "      <td>0.376404</td>\n",
       "      <td>2.330056</td>\n",
       "      <td>29.498846</td>\n",
       "      <td>0.553371</td>\n",
       "      <td>0.379213</td>\n",
       "      <td>32.586276</td>\n",
       "    </tr>\n",
       "    <tr>\n",
       "      <th>std</th>\n",
       "      <td>256.731423</td>\n",
       "      <td>0.484824</td>\n",
       "      <td>0.824584</td>\n",
       "      <td>14.500059</td>\n",
       "      <td>1.176404</td>\n",
       "      <td>0.791669</td>\n",
       "      <td>51.969529</td>\n",
       "    </tr>\n",
       "    <tr>\n",
       "      <th>min</th>\n",
       "      <td>1.000000</td>\n",
       "      <td>0.000000</td>\n",
       "      <td>1.000000</td>\n",
       "      <td>0.420000</td>\n",
       "      <td>0.000000</td>\n",
       "      <td>0.000000</td>\n",
       "      <td>0.000000</td>\n",
       "    </tr>\n",
       "    <tr>\n",
       "      <th>25%</th>\n",
       "      <td>224.750000</td>\n",
       "      <td>0.000000</td>\n",
       "      <td>2.000000</td>\n",
       "      <td>21.000000</td>\n",
       "      <td>0.000000</td>\n",
       "      <td>0.000000</td>\n",
       "      <td>7.925000</td>\n",
       "    </tr>\n",
       "    <tr>\n",
       "      <th>50%</th>\n",
       "      <td>453.500000</td>\n",
       "      <td>0.000000</td>\n",
       "      <td>3.000000</td>\n",
       "      <td>28.000000</td>\n",
       "      <td>0.000000</td>\n",
       "      <td>0.000000</td>\n",
       "      <td>14.454200</td>\n",
       "    </tr>\n",
       "    <tr>\n",
       "      <th>75%</th>\n",
       "      <td>673.500000</td>\n",
       "      <td>1.000000</td>\n",
       "      <td>3.000000</td>\n",
       "      <td>38.000000</td>\n",
       "      <td>1.000000</td>\n",
       "      <td>0.000000</td>\n",
       "      <td>30.500000</td>\n",
       "    </tr>\n",
       "    <tr>\n",
       "      <th>max</th>\n",
       "      <td>891.000000</td>\n",
       "      <td>1.000000</td>\n",
       "      <td>3.000000</td>\n",
       "      <td>80.000000</td>\n",
       "      <td>8.000000</td>\n",
       "      <td>6.000000</td>\n",
       "      <td>512.329200</td>\n",
       "    </tr>\n",
       "  </tbody>\n",
       "</table>\n",
       "</div>"
      ],
      "text/plain": [
       "       PassengerId    Survived      Pclass         Age       SibSp  \\\n",
       "count   712.000000  712.000000  712.000000  572.000000  712.000000   \n",
       "mean    448.234551    0.376404    2.330056   29.498846    0.553371   \n",
       "std     256.731423    0.484824    0.824584   14.500059    1.176404   \n",
       "min       1.000000    0.000000    1.000000    0.420000    0.000000   \n",
       "25%     224.750000    0.000000    2.000000   21.000000    0.000000   \n",
       "50%     453.500000    0.000000    3.000000   28.000000    0.000000   \n",
       "75%     673.500000    1.000000    3.000000   38.000000    1.000000   \n",
       "max     891.000000    1.000000    3.000000   80.000000    8.000000   \n",
       "\n",
       "            Parch        Fare  \n",
       "count  712.000000  712.000000  \n",
       "mean     0.379213   32.586276  \n",
       "std      0.791669   51.969529  \n",
       "min      0.000000    0.000000  \n",
       "25%      0.000000    7.925000  \n",
       "50%      0.000000   14.454200  \n",
       "75%      0.000000   30.500000  \n",
       "max      6.000000  512.329200  "
      ]
     },
     "execution_count": 3,
     "metadata": {},
     "output_type": "execute_result"
    }
   ],
   "source": [
    "Data_Frame.describe()"
   ]
  },
  {
   "cell_type": "code",
   "execution_count": 4,
   "id": "12903cba-847d-4908-9905-769ff7589e79",
   "metadata": {},
   "outputs": [
    {
     "data": {
      "text/plain": [
       "712"
      ]
     },
     "execution_count": 4,
     "metadata": {},
     "output_type": "execute_result"
    }
   ],
   "source": [
    "len(Data_Frame)"
   ]
  },
  {
   "cell_type": "code",
   "execution_count": 5,
   "id": "e3d93479-737d-4e7a-bb9a-a30c3c6eda4d",
   "metadata": {},
   "outputs": [
    {
     "data": {
      "text/plain": [
       "PassengerId      int64\n",
       "Survived         int64\n",
       "Pclass           int64\n",
       "Name            object\n",
       "Sex             object\n",
       "Age            float64\n",
       "SibSp            int64\n",
       "Parch            int64\n",
       "Ticket          object\n",
       "Fare           float64\n",
       "Cabin           object\n",
       "Embarked        object\n",
       "dtype: object"
      ]
     },
     "execution_count": 5,
     "metadata": {},
     "output_type": "execute_result"
    }
   ],
   "source": [
    "Data_Frame.dtypes"
   ]
  },
  {
   "cell_type": "code",
   "execution_count": 6,
   "id": "294c5e1a-a086-4ef6-b605-f7960b6a2660",
   "metadata": {},
   "outputs": [
    {
     "data": {
      "text/html": [
       "<div>\n",
       "<style scoped>\n",
       "    .dataframe tbody tr th:only-of-type {\n",
       "        vertical-align: middle;\n",
       "    }\n",
       "\n",
       "    .dataframe tbody tr th {\n",
       "        vertical-align: top;\n",
       "    }\n",
       "\n",
       "    .dataframe thead th {\n",
       "        text-align: right;\n",
       "    }\n",
       "</style>\n",
       "<table border=\"1\" class=\"dataframe\">\n",
       "  <thead>\n",
       "    <tr style=\"text-align: right;\">\n",
       "      <th></th>\n",
       "      <th>PassengerId</th>\n",
       "      <th>Survived</th>\n",
       "      <th>Pclass</th>\n",
       "      <th>Name</th>\n",
       "      <th>Sex</th>\n",
       "      <th>Age</th>\n",
       "      <th>SibSp</th>\n",
       "      <th>Parch</th>\n",
       "      <th>Ticket</th>\n",
       "      <th>Fare</th>\n",
       "      <th>Cabin</th>\n",
       "      <th>Embarked</th>\n",
       "    </tr>\n",
       "  </thead>\n",
       "  <tbody>\n",
       "    <tr>\n",
       "      <th>331</th>\n",
       "      <td>332</td>\n",
       "      <td>0</td>\n",
       "      <td>1</td>\n",
       "      <td>Partner, Mr. Austen</td>\n",
       "      <td>male</td>\n",
       "      <td>45.5</td>\n",
       "      <td>0</td>\n",
       "      <td>0</td>\n",
       "      <td>113043</td>\n",
       "      <td>28.5000</td>\n",
       "      <td>C124</td>\n",
       "      <td>S</td>\n",
       "    </tr>\n",
       "    <tr>\n",
       "      <th>733</th>\n",
       "      <td>734</td>\n",
       "      <td>0</td>\n",
       "      <td>2</td>\n",
       "      <td>Berriman, Mr. William John</td>\n",
       "      <td>male</td>\n",
       "      <td>23.0</td>\n",
       "      <td>0</td>\n",
       "      <td>0</td>\n",
       "      <td>28425</td>\n",
       "      <td>13.0000</td>\n",
       "      <td>NaN</td>\n",
       "      <td>S</td>\n",
       "    </tr>\n",
       "    <tr>\n",
       "      <th>382</th>\n",
       "      <td>383</td>\n",
       "      <td>0</td>\n",
       "      <td>3</td>\n",
       "      <td>Tikkanen, Mr. Juho</td>\n",
       "      <td>male</td>\n",
       "      <td>32.0</td>\n",
       "      <td>0</td>\n",
       "      <td>0</td>\n",
       "      <td>STON/O 2. 3101293</td>\n",
       "      <td>7.9250</td>\n",
       "      <td>NaN</td>\n",
       "      <td>S</td>\n",
       "    </tr>\n",
       "    <tr>\n",
       "      <th>704</th>\n",
       "      <td>705</td>\n",
       "      <td>0</td>\n",
       "      <td>3</td>\n",
       "      <td>Hansen, Mr. Henrik Juul</td>\n",
       "      <td>male</td>\n",
       "      <td>26.0</td>\n",
       "      <td>1</td>\n",
       "      <td>0</td>\n",
       "      <td>350025</td>\n",
       "      <td>7.8542</td>\n",
       "      <td>NaN</td>\n",
       "      <td>S</td>\n",
       "    </tr>\n",
       "    <tr>\n",
       "      <th>813</th>\n",
       "      <td>814</td>\n",
       "      <td>0</td>\n",
       "      <td>3</td>\n",
       "      <td>Andersson, Miss. Ebba Iris Alfrida</td>\n",
       "      <td>female</td>\n",
       "      <td>6.0</td>\n",
       "      <td>4</td>\n",
       "      <td>2</td>\n",
       "      <td>347082</td>\n",
       "      <td>31.2750</td>\n",
       "      <td>NaN</td>\n",
       "      <td>S</td>\n",
       "    </tr>\n",
       "  </tbody>\n",
       "</table>\n",
       "</div>"
      ],
      "text/plain": [
       "     PassengerId  Survived  Pclass                                Name  \\\n",
       "331          332         0       1                 Partner, Mr. Austen   \n",
       "733          734         0       2          Berriman, Mr. William John   \n",
       "382          383         0       3                  Tikkanen, Mr. Juho   \n",
       "704          705         0       3             Hansen, Mr. Henrik Juul   \n",
       "813          814         0       3  Andersson, Miss. Ebba Iris Alfrida   \n",
       "\n",
       "        Sex   Age  SibSp  Parch             Ticket     Fare Cabin Embarked  \n",
       "331    male  45.5      0      0             113043  28.5000  C124        S  \n",
       "733    male  23.0      0      0              28425  13.0000   NaN        S  \n",
       "382    male  32.0      0      0  STON/O 2. 3101293   7.9250   NaN        S  \n",
       "704    male  26.0      1      0             350025   7.8542   NaN        S  \n",
       "813  female   6.0      4      2             347082  31.2750   NaN        S  "
      ]
     },
     "execution_count": 6,
     "metadata": {},
     "output_type": "execute_result"
    }
   ],
   "source": [
    "Data_Frame.head()"
   ]
  },
  {
   "cell_type": "markdown",
   "id": "97c5594f-3a39-479e-971e-8d91b321fec3",
   "metadata": {},
   "source": [
    "# NULLS"
   ]
  },
  {
   "cell_type": "code",
   "execution_count": 7,
   "id": "cd13acb5-f03e-461c-a922-65400aa0a79d",
   "metadata": {},
   "outputs": [
    {
     "data": {
      "text/plain": [
       "PassengerId      0\n",
       "Survived         0\n",
       "Pclass           0\n",
       "Name             0\n",
       "Sex              0\n",
       "Age            140\n",
       "SibSp            0\n",
       "Parch            0\n",
       "Ticket           0\n",
       "Fare             0\n",
       "Cabin          553\n",
       "Embarked         2\n",
       "dtype: int64"
      ]
     },
     "execution_count": 7,
     "metadata": {},
     "output_type": "execute_result"
    }
   ],
   "source": [
    "Data_Frame.isnull().sum()"
   ]
  },
  {
   "cell_type": "markdown",
   "id": "7cc97f33-8e58-479b-94b0-b556cf3308c6",
   "metadata": {},
   "source": [
    "# Distribution of Age"
   ]
  },
  {
   "cell_type": "code",
   "execution_count": 8,
   "id": "e61f9909-200a-4013-a529-f7e6507a59ef",
   "metadata": {},
   "outputs": [
    {
     "name": "stderr",
     "output_type": "stream",
     "text": [
      "C:\\Users\\HP\\anaconda3\\Lib\\site-packages\\seaborn\\_oldcore.py:1119: FutureWarning: use_inf_as_na option is deprecated and will be removed in a future version. Convert inf values to NaN before operating instead.\n",
      "  with pd.option_context('mode.use_inf_as_na', True):\n"
     ]
    },
    {
     "data": {
      "image/png": "[encoded data removed]",
      "text/plain": [
       "<Figure size 800x500 with 1 Axes>"
      ]
     },
     "metadata": {},
     "output_type": "display_data"
    }
   ],
   "source": [
    "plt.figure(figsize=(8, 5))\n",
    "sns.histplot(Data_Frame['Age'], bins=10, kde=True, color='skyblue', edgecolor='black')\n",
    "plt.title('Distribution of Age')\n",
    "plt.xlabel('Age')\n",
    "plt.ylabel('Frequency')\n",
    "plt.grid(True)\n",
    "plt.show()"
   ]
  },
  {
   "cell_type": "code",
   "execution_count": 9,
   "id": "7bddd612-b6cd-4575-8d16-ba32717b4a6c",
   "metadata": {},
   "outputs": [
    {
     "name": "stdout",
     "output_type": "stream",
     "text": [
      "Mean = 29.498846153846156, Median = 28.0, Mode = 24.0\n"
     ]
    }
   ],
   "source": [
    "\n",
    "mean_age = (stats.tmean(Data_Frame['Age'].dropna()))  \n",
    "median_age = (np.nanmedian(Data_Frame['Age']))        \n",
    "mode_age = (stats.mode(Data_Frame['Age'].dropna(), keepdims=True).mode[0])  \n",
    "\n",
    "print(f\"Mean = {mean_age}, Median = {median_age}, Mode = {mode_age}\")"
   ]
  },
  {
   "cell_type": "markdown",
   "id": "a1f97620-f22a-4bbd-984d-0272583188de",
   "metadata": {},
   "source": [
    " # Deal With Outliers"
   ]
  },
  {
   "cell_type": "code",
   "execution_count": 10,
   "id": "46eb9527-1896-40a3-a6fa-d10f83647db0",
   "metadata": {},
   "outputs": [
    {
     "data": {
      "image/png": "[encoded data removed]",
      "text/plain": [
       "<Figure size 600x400 with 1 Axes>"
      ]
     },
     "metadata": {},
     "output_type": "display_data"
    }
   ],
   "source": [
    "plt.figure(figsize=(6, 4))\n",
    "sns.boxplot(x=Data_Frame[\"Age\"], color=\"skyblue\")\n",
    "plt.title(\"Detect Outliers in Age\")\n",
    "plt.xlabel(\"Age\")\n",
    "plt.show()"
   ]
  },
  {
   "cell_type": "code",
   "execution_count": 11,
   "id": "0d5685a7-91c6-4da9-a19d-f4be4186f286",
   "metadata": {},
   "outputs": [
    {
     "name": "stdout",
     "output_type": "stream",
     "text": [
      "Q1: 21.0\n",
      "Q2 (Median): 28.0\n",
      "Q3: 38.0\n",
      "IQR: 17.0\n",
      "Lower Bound: -4.5\n",
      "Upper Bound: 63.5\n",
      "Boxplot Min (no outliers): 0.42\n",
      "Boxplot Max (no outliers): 63.0\n"
     ]
    }
   ],
   "source": [
    "import pickle\n",
    "\n",
    "age = Data_Frame['Age'] \n",
    "Q1 = age.quantile(0.25)\n",
    "Q2_age= age.median()\n",
    "with open('q2_age.pkl', 'wb') as f:\n",
    "    pickle.dump(Q2_age, f)\n",
    "Q3 = age.quantile(0.75)\n",
    "IQR = Q3 - Q1\n",
    "\n",
    "lower_bound = Q1 - 1.5 * IQR\n",
    "upper_bound = Q3 + 1.5 * IQR\n",
    "\n",
    "boxplot_min = age[age >= lower_bound].min()\n",
    "boxplot_max = age[age <= upper_bound].max()\n",
    "\n",
    "print(f\"Q1: {Q1}\")\n",
    "print(f\"Q2 (Median): {Q2_age}\")\n",
    "print(f\"Q3: {Q3}\")\n",
    "print(f\"IQR: {IQR}\")\n",
    "print(f\"Lower Bound: {lower_bound}\")\n",
    "print(f\"Upper Bound: {upper_bound}\")\n",
    "print(f\"Boxplot Min (no outliers): {boxplot_min}\")\n",
    "print(f\"Boxplot Max (no outliers): {boxplot_max}\")"
   ]
  },
  {
   "cell_type": "code",
   "execution_count": 12,
   "id": "2dd6f3ee-ba98-471d-b980-b04133d0f2b7",
   "metadata": {},
   "outputs": [
    {
     "name": "stdout",
     "output_type": "stream",
     "text": [
      "Number of outliers in Age: 7\n"
     ]
    },
    {
     "data": {
      "text/plain": [
       "80.0"
      ]
     },
     "execution_count": 12,
     "metadata": {},
     "output_type": "execute_result"
    }
   ],
   "source": [
    "outliers = Data_Frame[(Data_Frame['Age'] < lower_bound) | (Data_Frame['Age'] > upper_bound)]\n",
    "max_outlier = outliers['Age'].max()\n",
    "# Print how many\n",
    "print(f\"Number of outliers in Age: {outliers.shape[0]}\")\n",
    "max_outlier"
   ]
  },
  {
   "cell_type": "code",
   "execution_count": 13,
   "id": "8d1e5206-2b65-4cbd-99b4-3f7ec1b7f242",
   "metadata": {},
   "outputs": [
    {
     "data": {
      "text/plain": [
       "29.498846153846156"
      ]
     },
     "execution_count": 13,
     "metadata": {},
     "output_type": "execute_result"
    }
   ],
   "source": [
    "Data_Frame['Age'].mean()"
   ]
  },
  {
   "cell_type": "code",
   "execution_count": 14,
   "id": "5f7f9616-511f-423d-913d-142b113fd766",
   "metadata": {},
   "outputs": [],
   "source": [
    "Data_Frame['Age'] = Data_Frame['Age'].apply(lambda x: Q2_age if x < lower_bound or x > upper_bound else x)"
   ]
  },
  {
   "cell_type": "code",
   "execution_count": 15,
   "id": "12fa9f34-b55b-4181-a958-de837a70ce92",
   "metadata": {},
   "outputs": [
    {
     "name": "stderr",
     "output_type": "stream",
     "text": [
      "C:\\Users\\HP\\anaconda3\\Lib\\site-packages\\seaborn\\_oldcore.py:1119: FutureWarning: use_inf_as_na option is deprecated and will be removed in a future version. Convert inf values to NaN before operating instead.\n",
      "  with pd.option_context('mode.use_inf_as_na', True):\n"
     ]
    },
    {
     "data": {
      "image/png": "[encoded data removed]",
      "text/plain": [
       "<Figure size 800x500 with 1 Axes>"
      ]
     },
     "metadata": {},
     "output_type": "display_data"
    }
   ],
   "source": [
    "plt.figure(figsize=(8, 5))\n",
    "sns.histplot(Data_Frame['Age'], bins=10, kde=True, color='skyblue', edgecolor='black')\n",
    "plt.title('Distribution of Age')\n",
    "plt.xlabel('Age')\n",
    "plt.ylabel('Frequency')\n",
    "plt.grid(True)\n",
    "plt.show()"
   ]
  },
  {
   "cell_type": "code",
   "execution_count": 16,
   "id": "9646fdeb-96a1-4899-b395-fba193e20c94",
   "metadata": {},
   "outputs": [
    {
     "name": "stdout",
     "output_type": "stream",
     "text": [
      "Mean = 28.97874125874126, Median = 28.0, Mode = 28.0\n"
     ]
    }
   ],
   "source": [
    "mean_age = (stats.tmean(Data_Frame['Age'].dropna()))  \n",
    "median_age = (np.nanmedian(Data_Frame['Age']))        \n",
    "mode_age = (stats.mode(Data_Frame['Age'].dropna(), keepdims=True).mode[0])  \n",
    "\n",
    "print(f\"Mean = {mean_age}, Median = {median_age}, Mode = {mode_age}\")"
   ]
  },
  {
   "cell_type": "code",
   "execution_count": 17,
   "id": "ae451308-62fd-424a-a903-ba6dda691303",
   "metadata": {},
   "outputs": [
    {
     "data": {
      "image/png": "[encoded data removed]",
      "text/plain": [
       "<Figure size 600x400 with 1 Axes>"
      ]
     },
     "metadata": {},
     "output_type": "display_data"
    }
   ],
   "source": [
    "plt.figure(figsize=(6, 4))\n",
    "sns.boxplot(x=Data_Frame[\"Age\"], color=\"skyblue\")\n",
    "plt.title(\"Detect Outliers in Age\")\n",
    "plt.xlabel(\"Age\")\n",
    "plt.show()"
   ]
  },
  {
   "cell_type": "code",
   "execution_count": 18,
   "id": "e721f51e-34d6-4d8a-b3bd-b3f10f856949",
   "metadata": {},
   "outputs": [
    {
     "name": "stdout",
     "output_type": "stream",
     "text": [
      "Number of outliers in Age: 0\n"
     ]
    },
    {
     "data": {
      "text/plain": [
       "nan"
      ]
     },
     "execution_count": 18,
     "metadata": {},
     "output_type": "execute_result"
    }
   ],
   "source": [
    "outliers = Data_Frame[(Data_Frame['Age'] < lower_bound) | (Data_Frame['Age'] > upper_bound)]\n",
    "max_outlier = outliers['Age'].max()\n",
    "# Print how many\n",
    "print(f\"Number of outliers in Age: {outliers.shape[0]}\")\n",
    "max_outlier"
   ]
  },
  {
   "cell_type": "code",
   "execution_count": 19,
   "id": "1279f801-4b0c-43ce-bd19-7a7326577a91",
   "metadata": {},
   "outputs": [
    {
     "data": {
      "text/plain": [
       "28.97874125874126"
      ]
     },
     "execution_count": 19,
     "metadata": {},
     "output_type": "execute_result"
    }
   ],
   "source": [
    "Data_Frame['Age'].mean()"
   ]
  },
  {
   "cell_type": "code",
   "execution_count": 20,
   "id": "d4302c93-4e41-45e6-8ad6-876fd9258db3",
   "metadata": {},
   "outputs": [
    {
     "name": "stderr",
     "output_type": "stream",
     "text": [
      "C:\\Users\\HP\\anaconda3\\Lib\\site-packages\\seaborn\\_oldcore.py:1119: FutureWarning: use_inf_as_na option is deprecated and will be removed in a future version. Convert inf values to NaN before operating instead.\n",
      "  with pd.option_context('mode.use_inf_as_na', True):\n"
     ]
    },
    {
     "data": {
      "image/png": "[encoded data removed]",
      "text/plain": [
       "<Figure size 800x500 with 1 Axes>"
      ]
     },
     "metadata": {},
     "output_type": "display_data"
    }
   ],
   "source": [
    "plt.figure(figsize=(8, 5))\n",
    "sns.histplot(Data_Frame['Pclass'], bins=10, kde=True, color='skyblue', edgecolor='black')\n",
    "plt.title('Distribution of Pclass')\n",
    "plt.xlabel('Pclass')\n",
    "plt.ylabel('Frequency')\n",
    "plt.grid(True)\n",
    "plt.show()"
   ]
  },
  {
   "cell_type": "code",
   "execution_count": 21,
   "id": "88f2fa74-7696-4fd9-9557-a60d913db72a",
   "metadata": {},
   "outputs": [
    {
     "name": "stdout",
     "output_type": "stream",
     "text": [
      "Mean = 2.330056179775281, Median = 3.0, Mode = 3\n"
     ]
    }
   ],
   "source": [
    "mean_pclass = (stats.tmean(Data_Frame['Pclass'].dropna()))  \n",
    "median_pclass = (np.nanmedian(Data_Frame['Pclass']))        \n",
    "mode_pclass = (stats.mode(Data_Frame['Pclass'].dropna(), keepdims=True).mode[0])  \n",
    "\n",
    "print(f\"Mean = {mean_pclass}, Median = {median_pclass}, Mode = {mode_pclass}\")"
   ]
  },
  {
   "cell_type": "code",
   "execution_count": 22,
   "id": "fb501781-ad18-4bf5-8154-da59e6b202dc",
   "metadata": {},
   "outputs": [
    {
     "data": {
      "image/png": "[encoded data removed]",
      "text/plain": [
       "<Figure size 600x400 with 1 Axes>"
      ]
     },
     "metadata": {},
     "output_type": "display_data"
    }
   ],
   "source": [
    "plt.figure(figsize=(6, 4))\n",
    "sns.boxplot(x=Data_Frame[\"Pclass\"], color=\"skyblue\")\n",
    "plt.title(\"Detect Outliers in pclass\")\n",
    "plt.xlabel(\"pclass\")\n",
    "plt.show()"
   ]
  },
  {
   "cell_type": "markdown",
   "id": "4e383386-db4a-4fe4-ad67-a7e823cb3382",
   "metadata": {},
   "source": [
    "# Deal With Nulls"
   ]
  },
  {
   "cell_type": "code",
   "execution_count": 23,
   "id": "41bf8d36-73ea-49eb-93d8-e774fee1d70f",
   "metadata": {},
   "outputs": [],
   "source": [
    "# Calculate the mean of Age (excluding nulls)\n",
    "age_mean = Data_Frame['Age'].mean()\n",
    "with open('age_mean.pkl', 'wb') as f:\n",
    "    pickle.dump(age_mean, f)\n",
    "# Replace null values with the mean\n",
    "Data_Frame['Age'] = Data_Frame['Age'].fillna(age_mean)"
   ]
  },
  {
   "cell_type": "code",
   "execution_count": 24,
   "id": "5e0cfca3-3eef-4b31-801d-cd6c6989096d",
   "metadata": {},
   "outputs": [
    {
     "data": {
      "text/plain": [
       "PassengerId      0\n",
       "Survived         0\n",
       "Pclass           0\n",
       "Name             0\n",
       "Sex              0\n",
       "Age              0\n",
       "SibSp            0\n",
       "Parch            0\n",
       "Ticket           0\n",
       "Fare             0\n",
       "Cabin          553\n",
       "Embarked         2\n",
       "dtype: int64"
      ]
     },
     "execution_count": 24,
     "metadata": {},
     "output_type": "execute_result"
    }
   ],
   "source": [
    "Data_Frame.isnull().sum()"
   ]
  },
  {
   "cell_type": "code",
   "execution_count": 25,
   "id": "7c372d87-7647-4eac-98e9-70652c317c91",
   "metadata": {},
   "outputs": [],
   "source": [
    "# Calculate the mean of Age (excluding nulls)\n",
    "cabin_mode = Data_Frame['Cabin'].mode().iloc[0]\n",
    "with open('cabin_mode.pkl', 'wb') as f:\n",
    "    pickle.dump(cabin_mode, f)\n",
    "# Replace null values with the mean\n",
    "Data_Frame['Cabin'] = Data_Frame['Cabin'].fillna(cabin_mode)"
   ]
  },
  {
   "cell_type": "code",
   "execution_count": 26,
   "id": "c4d81960-721d-4445-a216-42f62dbad669",
   "metadata": {},
   "outputs": [
    {
     "data": {
      "text/plain": [
       "PassengerId    0\n",
       "Survived       0\n",
       "Pclass         0\n",
       "Name           0\n",
       "Sex            0\n",
       "Age            0\n",
       "SibSp          0\n",
       "Parch          0\n",
       "Ticket         0\n",
       "Fare           0\n",
       "Cabin          0\n",
       "Embarked       2\n",
       "dtype: int64"
      ]
     },
     "execution_count": 26,
     "metadata": {},
     "output_type": "execute_result"
    }
   ],
   "source": [
    "Data_Frame.isnull().sum()"
   ]
  },
  {
   "cell_type": "code",
   "execution_count": 27,
   "id": "01c99436-89f4-40f6-9a0a-b6511f95cceb",
   "metadata": {},
   "outputs": [],
   "source": [
    "embark_mode = Data_Frame['Embarked'].mode().iloc[0]\n",
    "with open('embark_mode.pkl', 'wb') as f:\n",
    "    pickle.dump(embark_mode, f)\n",
    "# Replace null values with the mean\n",
    "Data_Frame['Embarked'] = Data_Frame['Embarked'].fillna(embark_mode)"
   ]
  },
  {
   "cell_type": "code",
   "execution_count": 28,
   "id": "57bb2f31-6e81-47b0-b318-7c1a55061945",
   "metadata": {},
   "outputs": [
    {
     "data": {
      "text/plain": [
       "PassengerId    0\n",
       "Survived       0\n",
       "Pclass         0\n",
       "Name           0\n",
       "Sex            0\n",
       "Age            0\n",
       "SibSp          0\n",
       "Parch          0\n",
       "Ticket         0\n",
       "Fare           0\n",
       "Cabin          0\n",
       "Embarked       0\n",
       "dtype: int64"
      ]
     },
     "execution_count": 28,
     "metadata": {},
     "output_type": "execute_result"
    }
   ],
   "source": [
    "Data_Frame.isnull().sum()"
   ]
  },
  {
   "cell_type": "code",
   "execution_count": 29,
   "id": "76d32181-41e5-47a5-84b4-919c0f5d1ba0",
   "metadata": {},
   "outputs": [
    {
     "name": "stdout",
     "output_type": "stream",
     "text": [
      "Number of duplicate rows: 0\n"
     ]
    }
   ],
   "source": [
    "num_duplicates = Data_Frame.duplicated().sum()\n",
    "print(f\"Number of duplicate rows: {num_duplicates}\")\n"
   ]
  },
  {
   "cell_type": "markdown",
   "id": "db15ff6a-d28e-455a-af3b-49f521955516",
   "metadata": {},
   "source": [
    "# Feature Engineering"
   ]
  },
  {
   "cell_type": "code",
   "execution_count": 30,
   "id": "292aa199-6614-4ca7-a8c8-896ca220dc5c",
   "metadata": {},
   "outputs": [],
   "source": [
    "Data_Frame['FamilySize'] = Data_Frame['SibSp'] + Data_Frame['Parch'] + 1\n",
    "def categorize_family_size(size):\n",
    "    if size == 1:\n",
    "        return 'Single'\n",
    "    elif size <= 3:\n",
    "        return 'Small'\n",
    "    elif size <= 6:\n",
    "        return 'Medium'\n",
    "    else:\n",
    "        return 'Large'\n",
    "\n",
    "Data_Frame['FamilyCategory'] = Data_Frame['FamilySize'].apply(categorize_family_size)\n",
    "Data_Frame.drop(['Parch', 'SibSp'], axis=1, inplace=True)"
   ]
  },
  {
   "cell_type": "code",
   "execution_count": 31,
   "id": "c871da2e-d07c-49c8-87ef-2f6875c90860",
   "metadata": {},
   "outputs": [],
   "source": [
    "bins = [0, 12, 18, 30, 45, 63.5]\n",
    "labels = ['Child', 'Teen', 'Young Adult', 'Adult', 'Mid-age Adult']\n",
    "\n",
    "Data_Frame['AgeGroup'] = pd.cut(Data_Frame['Age'], bins=bins, labels=labels, right=True, include_lowest=True)"
   ]
  },
  {
   "cell_type": "code",
   "execution_count": 32,
   "id": "fd9527c7-d226-4b60-8db1-3f324e9ed14c",
   "metadata": {},
   "outputs": [
    {
     "data": {
      "text/html": [
       "<div>\n",
       "<style scoped>\n",
       "    .dataframe tbody tr th:only-of-type {\n",
       "        vertical-align: middle;\n",
       "    }\n",
       "\n",
       "    .dataframe tbody tr th {\n",
       "        vertical-align: top;\n",
       "    }\n",
       "\n",
       "    .dataframe thead th {\n",
       "        text-align: right;\n",
       "    }\n",
       "</style>\n",
       "<table border=\"1\" class=\"dataframe\">\n",
       "  <thead>\n",
       "    <tr style=\"text-align: right;\">\n",
       "      <th></th>\n",
       "      <th>PassengerId</th>\n",
       "      <th>Survived</th>\n",
       "      <th>Pclass</th>\n",
       "      <th>Name</th>\n",
       "      <th>Sex</th>\n",
       "      <th>Age</th>\n",
       "      <th>Ticket</th>\n",
       "      <th>Fare</th>\n",
       "      <th>Cabin</th>\n",
       "      <th>Embarked</th>\n",
       "      <th>FamilySize</th>\n",
       "      <th>FamilyCategory</th>\n",
       "      <th>AgeGroup</th>\n",
       "    </tr>\n",
       "  </thead>\n",
       "  <tbody>\n",
       "    <tr>\n",
       "      <th>331</th>\n",
       "      <td>332</td>\n",
       "      <td>0</td>\n",
       "      <td>1</td>\n",
       "      <td>Partner, Mr. Austen</td>\n",
       "      <td>male</td>\n",
       "      <td>45.500000</td>\n",
       "      <td>113043</td>\n",
       "      <td>28.5000</td>\n",
       "      <td>C124</td>\n",
       "      <td>S</td>\n",
       "      <td>1</td>\n",
       "      <td>Single</td>\n",
       "      <td>Mid-age Adult</td>\n",
       "    </tr>\n",
       "    <tr>\n",
       "      <th>733</th>\n",
       "      <td>734</td>\n",
       "      <td>0</td>\n",
       "      <td>2</td>\n",
       "      <td>Berriman, Mr. William John</td>\n",
       "      <td>male</td>\n",
       "      <td>23.000000</td>\n",
       "      <td>28425</td>\n",
       "      <td>13.0000</td>\n",
       "      <td>C23 C25 C27</td>\n",
       "      <td>S</td>\n",
       "      <td>1</td>\n",
       "      <td>Single</td>\n",
       "      <td>Young Adult</td>\n",
       "    </tr>\n",
       "    <tr>\n",
       "      <th>382</th>\n",
       "      <td>383</td>\n",
       "      <td>0</td>\n",
       "      <td>3</td>\n",
       "      <td>Tikkanen, Mr. Juho</td>\n",
       "      <td>male</td>\n",
       "      <td>32.000000</td>\n",
       "      <td>STON/O 2. 3101293</td>\n",
       "      <td>7.9250</td>\n",
       "      <td>C23 C25 C27</td>\n",
       "      <td>S</td>\n",
       "      <td>1</td>\n",
       "      <td>Single</td>\n",
       "      <td>Adult</td>\n",
       "    </tr>\n",
       "    <tr>\n",
       "      <th>704</th>\n",
       "      <td>705</td>\n",
       "      <td>0</td>\n",
       "      <td>3</td>\n",
       "      <td>Hansen, Mr. Henrik Juul</td>\n",
       "      <td>male</td>\n",
       "      <td>26.000000</td>\n",
       "      <td>350025</td>\n",
       "      <td>7.8542</td>\n",
       "      <td>C23 C25 C27</td>\n",
       "      <td>S</td>\n",
       "      <td>2</td>\n",
       "      <td>Small</td>\n",
       "      <td>Young Adult</td>\n",
       "    </tr>\n",
       "    <tr>\n",
       "      <th>813</th>\n",
       "      <td>814</td>\n",
       "      <td>0</td>\n",
       "      <td>3</td>\n",
       "      <td>Andersson, Miss. Ebba Iris Alfrida</td>\n",
       "      <td>female</td>\n",
       "      <td>6.000000</td>\n",
       "      <td>347082</td>\n",
       "      <td>31.2750</td>\n",
       "      <td>C23 C25 C27</td>\n",
       "      <td>S</td>\n",
       "      <td>7</td>\n",
       "      <td>Large</td>\n",
       "      <td>Child</td>\n",
       "    </tr>\n",
       "    <tr>\n",
       "      <th>...</th>\n",
       "      <td>...</td>\n",
       "      <td>...</td>\n",
       "      <td>...</td>\n",
       "      <td>...</td>\n",
       "      <td>...</td>\n",
       "      <td>...</td>\n",
       "      <td>...</td>\n",
       "      <td>...</td>\n",
       "      <td>...</td>\n",
       "      <td>...</td>\n",
       "      <td>...</td>\n",
       "      <td>...</td>\n",
       "      <td>...</td>\n",
       "    </tr>\n",
       "    <tr>\n",
       "      <th>106</th>\n",
       "      <td>107</td>\n",
       "      <td>1</td>\n",
       "      <td>3</td>\n",
       "      <td>Salkjelsvik, Miss. Anna Kristine</td>\n",
       "      <td>female</td>\n",
       "      <td>21.000000</td>\n",
       "      <td>343120</td>\n",
       "      <td>7.6500</td>\n",
       "      <td>C23 C25 C27</td>\n",
       "      <td>S</td>\n",
       "      <td>1</td>\n",
       "      <td>Single</td>\n",
       "      <td>Young Adult</td>\n",
       "    </tr>\n",
       "    <tr>\n",
       "      <th>270</th>\n",
       "      <td>271</td>\n",
       "      <td>0</td>\n",
       "      <td>1</td>\n",
       "      <td>Cairns, Mr. Alexander</td>\n",
       "      <td>male</td>\n",
       "      <td>28.978741</td>\n",
       "      <td>113798</td>\n",
       "      <td>31.0000</td>\n",
       "      <td>C23 C25 C27</td>\n",
       "      <td>S</td>\n",
       "      <td>1</td>\n",
       "      <td>Single</td>\n",
       "      <td>Young Adult</td>\n",
       "    </tr>\n",
       "    <tr>\n",
       "      <th>860</th>\n",
       "      <td>861</td>\n",
       "      <td>0</td>\n",
       "      <td>3</td>\n",
       "      <td>Hansen, Mr. Claus Peter</td>\n",
       "      <td>male</td>\n",
       "      <td>41.000000</td>\n",
       "      <td>350026</td>\n",
       "      <td>14.1083</td>\n",
       "      <td>C23 C25 C27</td>\n",
       "      <td>S</td>\n",
       "      <td>3</td>\n",
       "      <td>Small</td>\n",
       "      <td>Adult</td>\n",
       "    </tr>\n",
       "    <tr>\n",
       "      <th>435</th>\n",
       "      <td>436</td>\n",
       "      <td>1</td>\n",
       "      <td>1</td>\n",
       "      <td>Carter, Miss. Lucile Polk</td>\n",
       "      <td>female</td>\n",
       "      <td>14.000000</td>\n",
       "      <td>113760</td>\n",
       "      <td>120.0000</td>\n",
       "      <td>B96 B98</td>\n",
       "      <td>S</td>\n",
       "      <td>4</td>\n",
       "      <td>Medium</td>\n",
       "      <td>Teen</td>\n",
       "    </tr>\n",
       "    <tr>\n",
       "      <th>102</th>\n",
       "      <td>103</td>\n",
       "      <td>0</td>\n",
       "      <td>1</td>\n",
       "      <td>White, Mr. Richard Frasar</td>\n",
       "      <td>male</td>\n",
       "      <td>21.000000</td>\n",
       "      <td>35281</td>\n",
       "      <td>77.2875</td>\n",
       "      <td>D26</td>\n",
       "      <td>S</td>\n",
       "      <td>2</td>\n",
       "      <td>Small</td>\n",
       "      <td>Young Adult</td>\n",
       "    </tr>\n",
       "  </tbody>\n",
       "</table>\n",
       "<p>712 rows × 13 columns</p>\n",
       "</div>"
      ],
      "text/plain": [
       "     PassengerId  Survived  Pclass                                Name  \\\n",
       "331          332         0       1                 Partner, Mr. Austen   \n",
       "733          734         0       2          Berriman, Mr. William John   \n",
       "382          383         0       3                  Tikkanen, Mr. Juho   \n",
       "704          705         0       3             Hansen, Mr. Henrik Juul   \n",
       "813          814         0       3  Andersson, Miss. Ebba Iris Alfrida   \n",
       "..           ...       ...     ...                                 ...   \n",
       "106          107         1       3    Salkjelsvik, Miss. Anna Kristine   \n",
       "270          271         0       1               Cairns, Mr. Alexander   \n",
       "860          861         0       3             Hansen, Mr. Claus Peter   \n",
       "435          436         1       1           Carter, Miss. Lucile Polk   \n",
       "102          103         0       1           White, Mr. Richard Frasar   \n",
       "\n",
       "        Sex        Age             Ticket      Fare        Cabin Embarked  \\\n",
       "331    male  45.500000             113043   28.5000         C124        S   \n",
       "733    male  23.000000              28425   13.0000  C23 C25 C27        S   \n",
       "382    male  32.000000  STON/O 2. 3101293    7.9250  C23 C25 C27        S   \n",
       "704    male  26.000000             350025    7.8542  C23 C25 C27        S   \n",
       "813  female   6.000000             347082   31.2750  C23 C25 C27        S   \n",
       "..      ...        ...                ...       ...          ...      ...   \n",
       "106  female  21.000000             343120    7.6500  C23 C25 C27        S   \n",
       "270    male  28.978741             113798   31.0000  C23 C25 C27        S   \n",
       "860    male  41.000000             350026   14.1083  C23 C25 C27        S   \n",
       "435  female  14.000000             113760  120.0000      B96 B98        S   \n",
       "102    male  21.000000              35281   77.2875          D26        S   \n",
       "\n",
       "     FamilySize FamilyCategory       AgeGroup  \n",
       "331           1         Single  Mid-age Adult  \n",
       "733           1         Single    Young Adult  \n",
       "382           1         Single          Adult  \n",
       "704           2          Small    Young Adult  \n",
       "813           7          Large          Child  \n",
       "..          ...            ...            ...  \n",
       "106           1         Single    Young Adult  \n",
       "270           1         Single    Young Adult  \n",
       "860           3          Small          Adult  \n",
       "435           4         Medium           Teen  \n",
       "102           2          Small    Young Adult  \n",
       "\n",
       "[712 rows x 13 columns]"
      ]
     },
     "execution_count": 32,
     "metadata": {},
     "output_type": "execute_result"
    }
   ],
   "source": [
    "Data_Frame"
   ]
  },
  {
   "cell_type": "markdown",
   "id": "eb8e5d86-07c4-4ee0-9b3e-67e9301bc8df",
   "metadata": {},
   "source": [
    "# Handle Data Types"
   ]
  },
  {
   "cell_type": "code",
   "execution_count": 33,
   "id": "ab9a0cde-ded5-41ce-8bb8-ad871cf39bcc",
   "metadata": {},
   "outputs": [
    {
     "data": {
      "text/plain": [
       "PassengerId          int64\n",
       "Survived             int64\n",
       "Pclass              object\n",
       "Name                object\n",
       "Sex                 object\n",
       "Age                float64\n",
       "Ticket              object\n",
       "Fare               float64\n",
       "Cabin               object\n",
       "Embarked            object\n",
       "FamilySize           int64\n",
       "FamilyCategory      object\n",
       "AgeGroup          category\n",
       "dtype: object"
      ]
     },
     "execution_count": 33,
     "metadata": {},
     "output_type": "execute_result"
    }
   ],
   "source": [
    "Data_Frame['Pclass'] = Data_Frame['Pclass'].astype('object')\n",
    "Data_Frame.dtypes"
   ]
  },
  {
   "cell_type": "markdown",
   "id": "e12f79aa-7cc5-4eff-b38d-ea59d5fbbbfa",
   "metadata": {},
   "source": [
    "# Annova"
   ]
  },
  {
   "cell_type": "code",
   "execution_count": 34,
   "id": "1d9bd1fe-f436-4580-95ec-339edaf67ebe",
   "metadata": {},
   "outputs": [
    {
     "name": "stdout",
     "output_type": "stream",
     "text": [
      "Removed numerical features: ['Age', 'FamilySize', 'PassengerId']\n",
      "Remaining columns in DataFrame: ['Survived', 'Pclass', 'Name', 'Sex', 'Ticket', 'Fare', 'Cabin', 'Embarked', 'FamilyCategory', 'AgeGroup']\n"
     ]
    }
   ],
   "source": [
    "from sklearn.feature_selection import SelectKBest, f_classif\n",
    "# apply Annova\n",
    "# 1. Separate features and target\n",
    "X_train = Data_Frame.drop(columns=['Survived'])\n",
    "y_train = Data_Frame['Survived']\n",
    "\n",
    "# 2. Keep only numerical columns from training set\n",
    "X_train_num = X_train.select_dtypes(include=['int64', 'float64'])\n",
    "\n",
    "# 3. Apply ANOVA on training data\n",
    "selector = SelectKBest(score_func=f_classif, k=1)  \n",
    "X_train_selected = selector.fit_transform(X_train_num, y_train)\n",
    "\n",
    "# 4. Get selected and unselected numerical feature names\n",
    "selected_features = X_train_num.columns[selector.get_support()]\n",
    "unselected_features = X_train_num.columns.difference(selected_features)\n",
    "X_num_selected_df = X_train_num[selected_features]\n",
    "# 5. Drop unselected numerical features from original DataFrame\n",
    "Data_Frame = Data_Frame.drop(columns=unselected_features)\n",
    "\n",
    "# 6. (Optional) Print result\n",
    "print(\"Removed numerical features:\", unselected_features.tolist())\n",
    "print(\"Remaining columns in DataFrame:\", Data_Frame.columns.tolist())"
   ]
  },
  {
   "cell_type": "code",
   "execution_count": 35,
   "id": "bcd8ccdc-1d48-472b-a617-ff504f49d917",
   "metadata": {},
   "outputs": [],
   "source": [
    "Data_Frame['Pclass'] = Data_Frame['Pclass'].astype('int64')"
   ]
  },
  {
   "cell_type": "markdown",
   "id": "7d1fb9c8-0213-4550-a8e1-1855e1c90100",
   "metadata": {},
   "source": [
    "# Handle Non Numerical Columns For Encoding"
   ]
  },
  {
   "cell_type": "code",
   "execution_count": 36,
   "id": "dfe33e91-5ba4-4e42-b024-73ad56b439eb",
   "metadata": {},
   "outputs": [],
   "source": [
    "# Extract only the titles from the 'Name' column\n",
    "Data_Frame['Title'] = Data_Frame['Name'].str.extract(r',\\s*(\\w+)\\.')\n",
    "\n",
    "\n"
   ]
  },
  {
   "cell_type": "code",
   "execution_count": 37,
   "id": "f0e07f97-2116-4edc-85fc-35ae9f02497d",
   "metadata": {},
   "outputs": [],
   "source": [
    "Data_Frame.drop(columns=['Name'], inplace=True)"
   ]
  },
  {
   "cell_type": "code",
   "execution_count": 38,
   "id": "e4253454-a18b-4d53-8a9d-9b4e68c80f11",
   "metadata": {},
   "outputs": [
    {
     "name": "stdout",
     "output_type": "stream",
     "text": [
      "Title\n",
      "Mr        419\n",
      "Miss      143\n",
      "Mrs        96\n",
      "Master     33\n",
      "Rev         5\n",
      "Dr          5\n",
      "Major       2\n",
      "Col         2\n",
      "Mlle        2\n",
      "Capt        1\n",
      "Mme         1\n",
      "Ms          1\n",
      "Lady        1\n",
      "Name: count, dtype: int64\n"
     ]
    }
   ],
   "source": [
    "print(Data_Frame['Title'].value_counts())"
   ]
  },
  {
   "cell_type": "code",
   "execution_count": 39,
   "id": "bc524c05-0286-4931-9237-a94671dcad55",
   "metadata": {},
   "outputs": [],
   "source": [
    "Title_mode = Data_Frame['Title'].mode().iloc[0]\n",
    "\n",
    "Data_Frame['Title'] = Data_Frame['Title'].fillna(Title_mode)"
   ]
  },
  {
   "cell_type": "code",
   "execution_count": 40,
   "id": "34b1200e-47ad-4a5c-a262-a967cdcc829d",
   "metadata": {},
   "outputs": [],
   "source": [
    "\n",
    "# Step 1: Convert all tickets to string\n",
    "Data_Frame['Ticket'] = Data_Frame['Ticket'].astype(str)\n",
    "\n",
    "# Step 2: Extract only characters before the first digit (i.e., the prefix)\n",
    "Data_Frame['Ticket_Prefix'] = Data_Frame['Ticket'].str.extract(r'^([^\\d]+)')\n",
    "\n",
    "# Step 3: Clean up - remove leading/trailing spaces and dots\n",
    "Data_Frame['Ticket_Prefix'] = Data_Frame['Ticket_Prefix'].str.strip()\n",
    "Data_Frame['Ticket_Prefix'] = Data_Frame['Ticket_Prefix'].str.replace('.', '', regex=False)\n",
    "\n",
    "# Step 4: Fill missing prefixes (NaN) with mode\n",
    "mode_prefix = Data_Frame['Ticket_Prefix'].mode()[0]\n",
    "with open('prefix_mode.pkl', 'wb') as f:\n",
    "    pickle.dump(mode_prefix, f)\n",
    "Data_Frame['Ticket_Prefix'] = Data_Frame['Ticket_Prefix'].fillna(mode_prefix)\n",
    "\n",
    "\n"
   ]
  },
  {
   "cell_type": "code",
   "execution_count": 41,
   "id": "a77a04f8-3588-42ed-97da-dfd174bbbe19",
   "metadata": {},
   "outputs": [],
   "source": [
    "\n",
    "\n",
    "# Step 2: Create frequency map\n",
    "freq_map = Data_Frame['Ticket_Prefix'].value_counts(normalize=False)\n",
    "with open('freq_map.pkl', 'wb') as f:\n",
    "    pickle.dump(freq_map, f)\n",
    "# Step 3: Map frequencies to the column\n",
    "\n",
    "Data_Frame['Ticket_Prefix'] = Data_Frame['Ticket_Prefix'].map(freq_map)\n",
    "\n"
   ]
  },
  {
   "cell_type": "code",
   "execution_count": 42,
   "id": "3e84f043-eefd-4f83-9b61-60eecbf2831b",
   "metadata": {},
   "outputs": [
    {
     "data": {
      "text/plain": [
       "{1, 2, 3, 4, 5, 7, 11, 16, 21, 36, 570}"
      ]
     },
     "execution_count": 42,
     "metadata": {},
     "output_type": "execute_result"
    }
   ],
   "source": [
    "#TO know unique categories\n",
    "set(Data_Frame['Ticket_Prefix'])"
   ]
  },
  {
   "cell_type": "code",
   "execution_count": 43,
   "id": "3a8a6c80-f418-450a-9d71-149a2371a945",
   "metadata": {},
   "outputs": [],
   "source": [
    "Data_Frame['Cabin_Deck'] = Data_Frame['Cabin'].str.extract(r'^([A-Za-z]+)', expand=False)\n"
   ]
  },
  {
   "cell_type": "code",
   "execution_count": 44,
   "id": "d65aace3-85f6-4637-b6a7-d18304489dde",
   "metadata": {},
   "outputs": [],
   "source": [
    "Data_Frame.drop(columns=['Cabin'], inplace=True)"
   ]
  },
  {
   "cell_type": "code",
   "execution_count": 45,
   "id": "3f503356-7fbe-43ef-ba68-70f71fd51354",
   "metadata": {},
   "outputs": [],
   "source": [
    "Data_Frame = pd.get_dummies(Data_Frame, columns=['Sex', 'Embarked','FamilyCategory'], drop_first=False)\n",
    "# One-hot encode 'Sex' and 'Embarked'\n",
    "\n",
    "\n",
    "# Identify one-hot encoded columns (or specify them if you know)\n",
    "one_hot_cols = [col for col in Data_Frame.columns if col.startswith('Sex_') or col.startswith('Embarked_') or col.startswith('FamilyCategory_')]\n",
    "\n",
    "# Replace integer 0 → 'False', 1 → 'True'\n",
    "for col in one_hot_cols:\n",
    "     Data_Frame[col] = Data_Frame[col].replace({False: 0, True: 1})\n",
    "\n",
    "label_cols = ['Ticket_Prefix', 'Cabin_Deck', 'Title','AgeGroup']  # Add any other categorical columns you're using\n",
    "\n",
    "ordinal_encoder = OrdinalEncoder(handle_unknown='use_encoded_value', unknown_value=-1)\n",
    "\n",
    "# Fit on the training data and transform\n",
    "Data_Frame[label_cols] = ordinal_encoder.fit_transform(Data_Frame[label_cols])\n",
    "\n",
    "# Save the fitted encoder\n",
    "with open('ordinal_encoder.pkl', 'wb') as f:\n",
    "    pickle.dump(ordinal_encoder, f)\n"
   ]
  },
  {
   "cell_type": "code",
   "execution_count": 46,
   "id": "ed0bee03-181e-4632-b971-9ea8023b84d0",
   "metadata": {},
   "outputs": [],
   "source": [
    "Data_Frame.drop(columns=['Ticket'], inplace=True)"
   ]
  },
  {
   "cell_type": "code",
   "execution_count": 47,
   "id": "c0634ba2-470f-4b09-99a4-85896a9cdaed",
   "metadata": {},
   "outputs": [
    {
     "data": {
      "text/plain": [
       "Survived                   int64\n",
       "Pclass                     int64\n",
       "Fare                     float64\n",
       "AgeGroup                 float64\n",
       "Title                    float64\n",
       "Ticket_Prefix            float64\n",
       "Cabin_Deck               float64\n",
       "Sex_female                 int64\n",
       "Sex_male                   int64\n",
       "Embarked_C                 int64\n",
       "Embarked_Q                 int64\n",
       "Embarked_S                 int64\n",
       "FamilyCategory_Large       int64\n",
       "FamilyCategory_Medium      int64\n",
       "FamilyCategory_Single      int64\n",
       "FamilyCategory_Small       int64\n",
       "dtype: object"
      ]
     },
     "execution_count": 47,
     "metadata": {},
     "output_type": "execute_result"
    }
   ],
   "source": [
    "Data_Frame.dtypes"
   ]
  },
  {
   "cell_type": "markdown",
   "id": "af9d4d23-7c70-458e-8e4f-2bea29d762b3",
   "metadata": {},
   "source": [
    "# Chi Square"
   ]
  },
  {
   "cell_type": "code",
   "execution_count": 58,
   "id": "5d7cf117-19b8-4ce3-b849-cf6b9205c011",
   "metadata": {},
   "outputs": [
    {
     "name": "stdout",
     "output_type": "stream",
     "text": [
      "✅ Selected categorical features (Chi-Square): ['Pclass', 'AgeGroup', 'Sex_female', 'Sex_male', 'Embarked_C', 'FamilyCategory_Small']\n"
     ]
    }
   ],
   "source": [
    "y_train = Data_Frame['Survived']\n",
    "X_train = Data_Frame.drop(columns=['Survived'])\n",
    "excluded_cols = ['Fare', 'PassengerId']\n",
    "X_cat = X_train.drop(columns=[col for col in excluded_cols if col in X_train.columns])\n",
    "\n",
    "\n",
    "chi_selector = SelectKBest(score_func=chi2, k=6)\n",
    "chi_selector.fit(X_cat, y_train)\n",
    "chi_features = X_cat.columns[chi_selector.get_support()]\n",
    "X_cat_selected_df = X_cat[chi_features]\n",
    "print(\"✅ Selected categorical features (Chi-Square):\", chi_features.tolist())"
   ]
  },
  {
   "cell_type": "markdown",
   "id": "e09c0a4b-f5c3-403b-8879-66c7a1976266",
   "metadata": {},
   "source": [
    "# Final Data Frame"
   ]
  },
  {
   "cell_type": "code",
   "execution_count": 59,
   "id": "a93fdf2d-1c79-4bcc-a161-1462d878e820",
   "metadata": {},
   "outputs": [
    {
     "data": {
      "text/html": [
       "<div>\n",
       "<style scoped>\n",
       "    .dataframe tbody tr th:only-of-type {\n",
       "        vertical-align: middle;\n",
       "    }\n",
       "\n",
       "    .dataframe tbody tr th {\n",
       "        vertical-align: top;\n",
       "    }\n",
       "\n",
       "    .dataframe thead th {\n",
       "        text-align: right;\n",
       "    }\n",
       "</style>\n",
       "<table border=\"1\" class=\"dataframe\">\n",
       "  <thead>\n",
       "    <tr style=\"text-align: right;\">\n",
       "      <th></th>\n",
       "      <th>0</th>\n",
       "    </tr>\n",
       "  </thead>\n",
       "  <tbody>\n",
       "    <tr>\n",
       "      <th>0</th>\n",
       "      <td>Fare</td>\n",
       "    </tr>\n",
       "  </tbody>\n",
       "</table>\n",
       "</div>"
      ],
      "text/plain": [
       "      0\n",
       "0  Fare"
      ]
     },
     "execution_count": 59,
     "metadata": {},
     "output_type": "execute_result"
    }
   ],
   "source": [
    "selected_features=pd.DataFrame(selected_features)\n",
    "\n",
    "final_X_df = pd.concat([X_num_selected_df, X_cat_selected_df], axis=1)\n",
    "\n",
    "# Step 5: Add target column back\n",
    "final_df = pd.concat([final_X_df, y_train], axis=1)\n",
    "selected_features"
   ]
  },
  {
   "cell_type": "code",
   "execution_count": 60,
   "id": "94fc0357-34d4-45c1-9373-0d067d44d0cd",
   "metadata": {},
   "outputs": [
    {
     "data": {
      "text/html": [
       "<div>\n",
       "<style scoped>\n",
       "    .dataframe tbody tr th:only-of-type {\n",
       "        vertical-align: middle;\n",
       "    }\n",
       "\n",
       "    .dataframe tbody tr th {\n",
       "        vertical-align: top;\n",
       "    }\n",
       "\n",
       "    .dataframe thead th {\n",
       "        text-align: right;\n",
       "    }\n",
       "</style>\n",
       "<table border=\"1\" class=\"dataframe\">\n",
       "  <thead>\n",
       "    <tr style=\"text-align: right;\">\n",
       "      <th></th>\n",
       "      <th>Fare</th>\n",
       "      <th>Pclass</th>\n",
       "      <th>AgeGroup</th>\n",
       "      <th>Sex_female</th>\n",
       "      <th>Sex_male</th>\n",
       "      <th>Embarked_C</th>\n",
       "      <th>FamilyCategory_Small</th>\n",
       "      <th>Survived</th>\n",
       "    </tr>\n",
       "  </thead>\n",
       "  <tbody>\n",
       "    <tr>\n",
       "      <th>331</th>\n",
       "      <td>28.5000</td>\n",
       "      <td>1</td>\n",
       "      <td>2.0</td>\n",
       "      <td>0</td>\n",
       "      <td>1</td>\n",
       "      <td>0</td>\n",
       "      <td>0</td>\n",
       "      <td>0</td>\n",
       "    </tr>\n",
       "    <tr>\n",
       "      <th>733</th>\n",
       "      <td>13.0000</td>\n",
       "      <td>2</td>\n",
       "      <td>4.0</td>\n",
       "      <td>0</td>\n",
       "      <td>1</td>\n",
       "      <td>0</td>\n",
       "      <td>0</td>\n",
       "      <td>0</td>\n",
       "    </tr>\n",
       "    <tr>\n",
       "      <th>382</th>\n",
       "      <td>7.9250</td>\n",
       "      <td>3</td>\n",
       "      <td>0.0</td>\n",
       "      <td>0</td>\n",
       "      <td>1</td>\n",
       "      <td>0</td>\n",
       "      <td>0</td>\n",
       "      <td>0</td>\n",
       "    </tr>\n",
       "    <tr>\n",
       "      <th>704</th>\n",
       "      <td>7.8542</td>\n",
       "      <td>3</td>\n",
       "      <td>4.0</td>\n",
       "      <td>0</td>\n",
       "      <td>1</td>\n",
       "      <td>0</td>\n",
       "      <td>1</td>\n",
       "      <td>0</td>\n",
       "    </tr>\n",
       "    <tr>\n",
       "      <th>813</th>\n",
       "      <td>31.2750</td>\n",
       "      <td>3</td>\n",
       "      <td>1.0</td>\n",
       "      <td>1</td>\n",
       "      <td>0</td>\n",
       "      <td>0</td>\n",
       "      <td>0</td>\n",
       "      <td>0</td>\n",
       "    </tr>\n",
       "  </tbody>\n",
       "</table>\n",
       "</div>"
      ],
      "text/plain": [
       "        Fare  Pclass  AgeGroup  Sex_female  Sex_male  Embarked_C  \\\n",
       "331  28.5000       1       2.0           0         1           0   \n",
       "733  13.0000       2       4.0           0         1           0   \n",
       "382   7.9250       3       0.0           0         1           0   \n",
       "704   7.8542       3       4.0           0         1           0   \n",
       "813  31.2750       3       1.0           1         0           0   \n",
       "\n",
       "     FamilyCategory_Small  Survived  \n",
       "331                     0         0  \n",
       "733                     0         0  \n",
       "382                     0         0  \n",
       "704                     1         0  \n",
       "813                     0         0  "
      ]
     },
     "execution_count": 60,
     "metadata": {},
     "output_type": "execute_result"
    }
   ],
   "source": [
    "final_df.head(5)"
   ]
  },
  {
   "cell_type": "markdown",
   "id": "4d02791c-a1b9-4bb6-be5e-44a014348298",
   "metadata": {},
   "source": [
    "# MODELS"
   ]
  },
  {
   "cell_type": "code",
   "execution_count": 61,
   "id": "b3171308-6954-4719-ac97-8fcaf3da6aa1",
   "metadata": {},
   "outputs": [
    {
     "name": "stdout",
     "output_type": "stream",
     "text": [
      "Fitting 5 folds for each of 80 candidates, totalling 400 fits\n",
      "✅ Best Hyperparameters: {'criterion': 'gini', 'max_depth': None, 'max_leaf_nodes': 50, 'min_samples_leaf': 1, 'min_samples_split': 2, 'splitter': 'best'}\n",
      "\n",
      "✅ Training Accuracy: 0.9030898876404494\n",
      "📊 Training Confusion Matrix:\n",
      " [[429  15]\n",
      " [ 54 214]]\n",
      "📋 Training Classification Report:\n",
      "               precision    recall  f1-score   support\n",
      "\n",
      "           0       0.89      0.97      0.93       444\n",
      "           1       0.93      0.80      0.86       268\n",
      "\n",
      "    accuracy                           0.90       712\n",
      "   macro avg       0.91      0.88      0.89       712\n",
      "weighted avg       0.91      0.90      0.90       712\n",
      "\n"
     ]
    },
    {
     "data": {
      "text/plain": [
       "['DT_model.pkl']"
      ]
     },
     "execution_count": 61,
     "metadata": {},
     "output_type": "execute_result"
    }
   ],
   "source": [
    "X = final_df.drop(columns=['Survived'])\n",
    "y = final_df['Survived']\n",
    "# 2. Split into train and test sets\n",
    "\n",
    "\n",
    "# 3. Initialize Decision Tree model\n",
    "param_grid = {\n",
    "    'criterion': ['gini', 'entropy'],                # dropped 'log_loss'\n",
    "    'splitter': ['best'],                            # dropped 'random'\n",
    "    'max_depth': [3,4,5, 10, None],                      # reduced to 3 values\n",
    "    'min_samples_split': [2, 10],                    # reduced to 2\n",
    "    'min_samples_leaf': [1, 3],                      # reduced to 2\n",
    "                \n",
    "    'max_leaf_nodes': [None, 50],                    # reduced to 2\n",
    "                       # reduced to 2\n",
    "}\n",
    "\n",
    "# 3. Initialize and run GridSearchCV\n",
    "dt_model = DecisionTreeClassifier(random_state=42)\n",
    "grid_search = GridSearchCV(\n",
    "    estimator=dt_model,\n",
    "    param_grid=param_grid,\n",
    "    scoring='accuracy',\n",
    "    cv=5,\n",
    "    n_jobs=-1,\n",
    "    verbose=1\n",
    ")\n",
    "grid_search.fit(X, y)\n",
    "\n",
    "# 4. Evaluate best model\n",
    "best_model = grid_search.best_estimator_\n",
    "print(\"✅ Best Hyperparameters:\", grid_search.best_params_)\n",
    "\n",
    "# Training metrics\n",
    "y_train_pred = best_model.predict(X)\n",
    "print(\"\\n✅ Training Accuracy:\", accuracy_score(y, y_train_pred))\n",
    "print(\"📊 Training Confusion Matrix:\\n\", confusion_matrix(y, y_train_pred))\n",
    "print(\"📋 Training Classification Report:\\n\", classification_report(y, y_train_pred))\n",
    "joblib.dump(best_model, 'DT_model.pkl')\n"
   ]
  },
  {
   "cell_type": "code",
   "execution_count": 62,
   "id": "2eb7554d-6aa9-4c87-b278-ad9ecc67f476",
   "metadata": {},
   "outputs": [
    {
     "name": "stdout",
     "output_type": "stream",
     "text": [
      "Fitting 5 folds for each of 16 candidates, totalling 80 fits\n",
      "🌟 Best Parameters: {'max_depth': 7, 'n_estimators': 400}\n",
      "\n",
      "✅ Training Accuracy: 0.8932584269662921\n",
      "📊 Training Confusion Matrix:\n",
      " [[428  16]\n",
      " [ 60 208]]\n",
      "📋 Training Classification Report:\n",
      "               precision    recall  f1-score   support\n",
      "\n",
      "           0       0.88      0.96      0.92       444\n",
      "           1       0.93      0.78      0.85       268\n",
      "\n",
      "    accuracy                           0.89       712\n",
      "   macro avg       0.90      0.87      0.88       712\n",
      "weighted avg       0.90      0.89      0.89       712\n",
      "\n"
     ]
    },
    {
     "data": {
      "text/plain": [
       "['best_rf_model.pkl']"
      ]
     },
     "execution_count": 62,
     "metadata": {},
     "output_type": "execute_result"
    }
   ],
   "source": [
    "param_grid = {\n",
    "    'n_estimators': [100, 200,300,400],             # Add more trees to improve stability\n",
    "    'max_depth': [5, 7, 9,10],                 # Slightly deeper trees\n",
    "          # Try different feature subsets\n",
    "}\n",
    "# Create a base model\n",
    "rf = RandomForestClassifier(random_state=42)\n",
    "\n",
    "# Instantiate the grid search\n",
    "grid_search = GridSearchCV(estimator=rf, param_grid=param_grid,\n",
    "                           cv=5, n_jobs=-1, verbose=2, scoring='accuracy')\n",
    "\n",
    "# Fit the model\n",
    "grid_search.fit(X, y)\n",
    "\n",
    "# Best model\n",
    "best_rf = grid_search.best_estimator_\n",
    "print(\"🌟 Best Parameters:\", grid_search.best_params_)\n",
    "\n",
    "# Evaluate on training set\n",
    "y_train_pred = best_rf.predict(X)\n",
    "print(\"\\n✅ Training Accuracy:\", accuracy_score(y, y_train_pred))\n",
    "print(\"📊 Training Confusion Matrix:\\n\", confusion_matrix(y, y_train_pred))\n",
    "print(\"📋 Training Classification Report:\\n\", classification_report(y, y_train_pred))\n",
    "\n",
    "# Evaluate on validation set\n",
    "\n",
    "joblib.dump(best_rf, 'best_rf_model.pkl')"
   ]
  },
  {
   "cell_type": "code",
   "execution_count": 63,
   "id": "81766461-2a74-4ba5-b5fe-1d72a021946b",
   "metadata": {},
   "outputs": [
    {
     "name": "stdout",
     "output_type": "stream",
     "text": [
      "Fitting 3 folds for each of 30 candidates, totalling 90 fits\n",
      "🌟 Best Parameters: {'learning_rate': 0.1, 'max_depth': 5, 'n_estimators': 100}\n",
      "\n",
      "✅ Training Accuracy: 0.901685393258427\n",
      "📊 Training Confusion Matrix:\n",
      " [[426  18]\n",
      " [ 52 216]]\n",
      "📋 Training Classification Report:\n",
      "               precision    recall  f1-score   support\n",
      "\n",
      "           0       0.89      0.96      0.92       444\n",
      "           1       0.92      0.81      0.86       268\n",
      "\n",
      "    accuracy                           0.90       712\n",
      "   macro avg       0.91      0.88      0.89       712\n",
      "weighted avg       0.90      0.90      0.90       712\n",
      "\n"
     ]
    },
    {
     "name": "stderr",
     "output_type": "stream",
     "text": [
      "C:\\Users\\HP\\anaconda3\\Lib\\site-packages\\sklearn\\model_selection\\_validation.py:378: FitFailedWarning: \n",
      "18 fits failed out of a total of 90.\n",
      "The score on these train-test partitions for these parameters will be set to nan.\n",
      "If these failures are not expected, you can try to debug them by setting error_score='raise'.\n",
      "\n",
      "Below are more details about the failures:\n",
      "--------------------------------------------------------------------------------\n",
      "18 fits failed with the following error:\n",
      "Traceback (most recent call last):\n",
      "  File \"C:\\Users\\HP\\anaconda3\\Lib\\site-packages\\sklearn\\model_selection\\_validation.py\", line 686, in _fit_and_score\n",
      "    estimator.fit(X_train, y_train, **fit_params)\n",
      "  File \"C:\\Users\\HP\\anaconda3\\Lib\\site-packages\\xgboost\\core.py\", line 730, in inner_f\n",
      "    return func(**kwargs)\n",
      "           ^^^^^^^^^^^^^^\n",
      "  File \"C:\\Users\\HP\\anaconda3\\Lib\\site-packages\\xgboost\\sklearn.py\", line 1519, in fit\n",
      "    self._Booster = train(\n",
      "                    ^^^^^^\n",
      "  File \"C:\\Users\\HP\\anaconda3\\Lib\\site-packages\\xgboost\\core.py\", line 730, in inner_f\n",
      "    return func(**kwargs)\n",
      "           ^^^^^^^^^^^^^^\n",
      "  File \"C:\\Users\\HP\\anaconda3\\Lib\\site-packages\\xgboost\\training.py\", line 181, in train\n",
      "    bst.update(dtrain, i, obj)\n",
      "  File \"C:\\Users\\HP\\anaconda3\\Lib\\site-packages\\xgboost\\core.py\", line 2050, in update\n",
      "    _check_call(\n",
      "  File \"C:\\Users\\HP\\anaconda3\\Lib\\site-packages\\xgboost\\core.py\", line 282, in _check_call\n",
      "    raise XGBoostError(py_str(_LIB.XGBGetLastError()))\n",
      "xgboost.core.XGBoostError: Invalid Parameter format for max_depth expect int but value='3.4'\n",
      "\n",
      "  warnings.warn(some_fits_failed_message, FitFailedWarning)\n",
      "C:\\Users\\HP\\anaconda3\\Lib\\site-packages\\sklearn\\model_selection\\_search.py:952: UserWarning: One or more of the test scores are non-finite: [0.79213204 0.79213204 0.79213204        nan        nan        nan\n",
      " 0.81324091 0.81605385 0.80763276 0.8090215  0.81464738 0.81325864\n",
      " 0.81324091 0.81042797 0.80623811 0.80337789 0.79212022 0.81462374\n",
      "        nan        nan        nan 0.80622629 0.81606567 0.81184626\n",
      " 0.80763867 0.80904514 0.81186399 0.80482573 0.80061814 0.80341335]\n",
      "  warnings.warn(\n"
     ]
    },
    {
     "data": {
      "text/plain": [
       "['best_xgb_model.pkl']"
      ]
     },
     "execution_count": 63,
     "metadata": {},
     "output_type": "execute_result"
    }
   ],
   "source": [
    "param_grid = {\n",
    "    'n_estimators': [50,100,150],\n",
    "    'max_depth': [2, 3.4,5,6,7],\n",
    "    'learning_rate': [0.01, 0.1],\n",
    "    \n",
    "}\n",
    "\n",
    "# 2. Model\n",
    "xgb_model = XGBClassifier(\n",
    "    use_label_encoder=False,\n",
    "    eval_metric='logloss',\n",
    "    random_state=42\n",
    ")\n",
    "\n",
    "# 3. Grid Search\n",
    "grid_search = GridSearchCV(\n",
    "    estimator=xgb_model,\n",
    "    param_grid=param_grid,\n",
    "    cv=3,  # reduce for faster tuning\n",
    "    scoring='accuracy',\n",
    "    n_jobs=-1,\n",
    "    verbose=2\n",
    ")\n",
    "\n",
    "\n",
    "grid_search.fit(X, y)\n",
    "# 5. Best model\n",
    "best_xgb = grid_search.best_estimator_\n",
    "print(\"🌟 Best Parameters:\", grid_search.best_params_)\n",
    "\n",
    "# 6. Evaluate on train\n",
    "y_train_pred = best_xgb.predict(X)\n",
    "print(\"\\n✅ Training Accuracy:\", accuracy_score(y, y_train_pred))\n",
    "print(\"📊 Training Confusion Matrix:\\n\", confusion_matrix(y, y_train_pred))\n",
    "print(\"📋 Training Classification Report:\\n\", classification_report(y, y_train_pred))\n",
    "\n",
    "\n",
    "\n",
    "\n",
    "# 8. Save the model\n",
    "joblib.dump(best_xgb, 'best_xgb_model.pkl')"
   ]
  },
  {
   "cell_type": "code",
   "execution_count": 54,
   "id": "924d167d-b6de-4c50-ab95-e7bb90f10543",
   "metadata": {},
   "outputs": [
    {
     "name": "stdout",
     "output_type": "stream",
     "text": [
      "Fitting 5 folds for each of 4 candidates, totalling 20 fits\n",
      "🌟 Best Parameters: {'n_neighbors': 2, 'p': 1, 'weights': 'distance'}\n",
      "\n",
      "✅ Training Accuracy: 0.9480337078651685\n",
      "📊 Training Confusion Matrix:\n",
      " [[444   0]\n",
      " [ 37 231]]\n",
      "📋 Training Classification Report:\n",
      "               precision    recall  f1-score   support\n",
      "\n",
      "           0       0.92      1.00      0.96       444\n",
      "           1       1.00      0.86      0.93       268\n",
      "\n",
      "    accuracy                           0.95       712\n",
      "   macro avg       0.96      0.93      0.94       712\n",
      "weighted avg       0.95      0.95      0.95       712\n",
      "\n"
     ]
    },
    {
     "ename": "NameError",
     "evalue": "name 'X_val' is not defined",
     "output_type": "error",
     "traceback": [
      "\u001b[1;31m---------------------------------------------------------------------------\u001b[0m",
      "\u001b[1;31mNameError\u001b[0m                                 Traceback (most recent call last)",
      "Cell \u001b[1;32mIn[54], line 32\u001b[0m\n\u001b[0;32m     29\u001b[0m \u001b[38;5;28mprint\u001b[39m(\u001b[38;5;124m\"\u001b[39m\u001b[38;5;124m📋 Training Classification Report:\u001b[39m\u001b[38;5;130;01m\\n\u001b[39;00m\u001b[38;5;124m\"\u001b[39m, classification_report(y_train, y_train_pred))\n\u001b[0;32m     31\u001b[0m \u001b[38;5;66;03m# 7. Validation evaluation\u001b[39;00m\n\u001b[1;32m---> 32\u001b[0m y_val_pred \u001b[38;5;241m=\u001b[39m best_knn\u001b[38;5;241m.\u001b[39mpredict(X_val)\n\u001b[0;32m     33\u001b[0m \u001b[38;5;28mprint\u001b[39m(\u001b[38;5;124m\"\u001b[39m\u001b[38;5;130;01m\\n\u001b[39;00m\u001b[38;5;124m✅ Validation Accuracy:\u001b[39m\u001b[38;5;124m\"\u001b[39m, accuracy_score(y_val, y_val_pred))\n",
      "\u001b[1;31mNameError\u001b[0m: name 'X_val' is not defined"
     ]
    }
   ],
   "source": [
    "param_grid = {\n",
    "    'n_neighbors': list(range(2, 3)),  # try neighbors from 1 to 30\n",
    "    'weights': ['uniform', 'distance'],\n",
    "    'p': [1, 2]  # 1: Manhattan, 2: Euclidean\n",
    "}\n",
    "\n",
    "# 2. Create a KNN model\n",
    "knn = KNeighborsClassifier()\n",
    "\n",
    "# 3. Setup GridSearchCV\n",
    "grid_search = GridSearchCV(estimator=knn,\n",
    "                           param_grid=param_grid,\n",
    "                           cv=5,\n",
    "                           scoring='accuracy',\n",
    "                           n_jobs=-1,\n",
    "                           verbose=2)\n",
    "\n",
    "# 4. Fit GridSearchCV on training data\n",
    "grid_search.fit(X_train, y_train)\n",
    "\n",
    "# 5. Best model\n",
    "best_knn = grid_search.best_estimator_\n",
    "print(\"🌟 Best Parameters:\", grid_search.best_params_)\n",
    "\n",
    "# 6. Training evaluation\n",
    "y_train_pred = best_knn.predict(X_train)\n",
    "print(\"\\n✅ Training Accuracy:\", accuracy_score(y_train, y_train_pred))\n",
    "print(\"📊 Training Confusion Matrix:\\n\", confusion_matrix(y_train, y_train_pred))\n",
    "print(\"📋 Training Classification Report:\\n\", classification_report(y_train, y_train_pred))\n",
    "\n",
    "# 7. Validation evaluation\n",
    "y_val_pred = best_knn.predict(X_val)\n",
    "print(\"\\n✅ Validation Accuracy:\", accuracy_score(y_val, y_val_pred))"
   ]
  },
  {
   "cell_type": "code",
   "execution_count": null,
   "id": "8c0cafec-b5c8-42dc-bd49-78d5109e6bfa",
   "metadata": {},
   "outputs": [],
   "source": [
    "excluded_cols = ['Sex_male', 'Sex_female', 'Survived','Pclass']\n",
    "\n",
    "# Identify columns to normalize\n",
    "cols_to_scale = [col for col in final_df.columns if col not in excluded_cols]\n",
    "\n",
    "\n",
    "\n",
    "# Fit and transform the selected columns\n",
    "scaler = MinMaxScaler()\n",
    "final_df[cols_to_scale] = scaler.fit_transform(final_df[cols_to_scale])\n"
   ]
  },
  {
   "cell_type": "code",
   "execution_count": null,
   "id": "4ff99aca-e596-4bbe-91b3-25fd87500d74",
   "metadata": {},
   "outputs": [],
   "source": [
    "X = final_df.drop(columns=['Survived'])\n",
    "y = final_df['Survived']\n",
    "\n",
    "# 2. Split into train and validation sets\n",
    "X_train, X_val, y_train, y_val = train_test_split(\n",
    "    X, y, test_size=0.2, random_state=42, stratify=y\n",
    ")\n",
    "\n",
    "# 3. Initialize Logistic Regression\n",
    "log_reg = LogisticRegression(max_iter=100)\n",
    "\n",
    "# 4. Train the model on training data only\n",
    "log_reg.fit(X_train, y_train)\n",
    "\n",
    "# 5. Predict on training data\n",
    "y_train_pred = log_reg.predict(X_train)\n",
    "\n",
    "# 6. Evaluate on training data\n",
    "print(\"✅ Training Accuracy:\", accuracy_score(y_train, y_train_pred))\n",
    "print(\"📊 Training Confusion Matrix:\\n\", confusion_matrix(y_train, y_train_pred))\n",
    "print(\"📋 Training Classification Report:\\n\", classification_report(y_train, y_train_pred))\n",
    "\n",
    "# 7. Predict on validation data\n",
    "y_val_pred = log_reg.predict(X_val)\n",
    "\n",
    "# 8. Evaluate on validation data\n",
    "print(\"✅ Validation Accuracy:\", accuracy_score(y_val, y_val_pred))"
   ]
  },
  {
   "cell_type": "code",
   "execution_count": null,
   "id": "3c000d3e-c9bc-45e7-af38-fbd2eab4f14e",
   "metadata": {},
   "outputs": [],
   "source": [
    "svm_model = SVC(random_state=42)\n",
    "\n",
    "# 2. Train on training data only\n",
    "svm_model.fit(X_train, y_train)\n",
    "\n",
    "# 3. Predict on training data\n",
    "y_train_pred = svm_model.predict(X_train)\n",
    "\n",
    "# 4. Evaluate on training data\n",
    "print(\"✅ Training Accuracy:\", accuracy_score(y_train, y_train_pred))\n",
    "print(\"📊 Training Confusion Matrix:\\n\", confusion_matrix(y_train, y_train_pred))\n",
    "print(\"📋 Training Classification Report:\\n\", classification_report(y_train, y_train_pred))\n",
    "\n",
    "# 5. Predict on validation data\n",
    "y_val_pred = svm_model.predict(X_val)\n",
    "# 6. Evaluate on validation data\n",
    "print(\"✅ Validation Accuracy:\", accuracy_score(y_val, y_val_pred))"
   ]
  },
  {
   "cell_type": "code",
   "execution_count": null,
   "id": "14a03e0b-3362-41dc-8a49-b7d6a2ef29e1",
   "metadata": {},
   "outputs": [],
   "source": [
    "param_grid = {\n",
    "    'n_neighbors': list(range(1, 31)),  # try neighbors from 1 to 30\n",
    "    'weights': ['uniform', 'distance'],\n",
    "    'p': [1, 2]  # 1: Manhattan, 2: Euclidean\n",
    "}\n",
    "\n",
    "# 2. Create a KNN model\n",
    "knn = KNeighborsClassifier()\n",
    "\n",
    "# 3. Setup GridSearchCV\n",
    "grid_search = GridSearchCV(estimator=knn,\n",
    "                           param_grid=param_grid,\n",
    "                           cv=5,\n",
    "                           scoring='accuracy',\n",
    "                           n_jobs=-1,\n",
    "                           verbose=2)\n",
    "\n",
    "# 4. Fit GridSearchCV on training data\n",
    "grid_search.fit(X_train, y_train)\n",
    "\n",
    "# 5. Best model\n",
    "best_knn = grid_search.best_estimator_\n",
    "print(\"🌟 Best Parameters:\", grid_search.best_params_)\n",
    "\n",
    "# 6. Training evaluation\n",
    "y_train_pred = best_knn.predict(X_train)\n",
    "print(\"\\n✅ Training Accuracy:\", accuracy_score(y_train, y_train_pred))\n",
    "print(\"📊 Training Confusion Matrix:\\n\", confusion_matrix(y_train, y_train_pred))\n",
    "print(\"📋 Training Classification Report:\\n\", classification_report(y_train, y_train_pred))\n",
    "\n",
    "# 7. Validation evaluation\n",
    "y_val_pred = best_knn.predict(X_val)\n",
    "print(\"\\n✅ Validation Accuracy:\", accuracy_score(y_val, y_val_pred))"
   ]
  },
  {
   "cell_type": "code",
   "execution_count": 64,
   "id": "7985f5bb-a8bc-4dc2-94df-c77aaa676ac4",
   "metadata": {},
   "outputs": [],
   "source": [
    "final_df.to_csv(\"train_df.csv\", index=False)"
   ]
  },
  {
   "cell_type": "code",
   "execution_count": null,
   "id": "a6a6ae9a-b47a-491d-989d-9bf6bc5317ec",
   "metadata": {},
   "outputs": [],
   "source": [
    "final_df"
   ]
  },
  {
   "cell_type": "code",
   "execution_count": null,
   "id": "aac35735-f6a5-4688-9f6b-e372da499b09",
   "metadata": {},
   "outputs": [],
   "source": []
  }
 ],
 "metadata": {
  "kernelspec": {
   "display_name": "Python 3 (ipykernel)",
   "language": "python",
   "name": "python3"
  },
  "language_info": {
   "codemirror_mode": {
    "name": "ipython",
    "version": 3
   },
   "file_extension": ".py",
   "mimetype": "text/x-python",
   "name": "python",
   "nbconvert_exporter": "python",
   "pygments_lexer": "ipython3",
   "version": "3.11.7"
  }
 },
 "nbformat": 4,
 "nbformat_minor": 5
}
